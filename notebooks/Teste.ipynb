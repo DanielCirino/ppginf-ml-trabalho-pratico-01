{
 "cells": [
  {
   "cell_type": "code",
   "execution_count": 1,
   "metadata": {},
   "outputs": [],
   "source": [
    "from scipy.optimize import minimize\n",
    "import pandas as pd\n",
    "import numpy as np\n"
   ]
  },
  {
   "cell_type": "code",
   "execution_count": 2,
   "metadata": {},
   "outputs": [
    {
     "name": "stdout",
     "output_type": "stream",
     "text": [
      "Matriz X:\n",
      " [[ 1.         34.62365962 78.02469282]\n",
      " [ 1.         30.28671077 43.89499752]\n",
      " [ 1.         35.84740877 72.90219803]\n",
      " [ 1.         60.18259939 86.3085521 ]\n",
      " [ 1.         79.03273605 75.34437644]]\n",
      "\n",
      "\n",
      "Dados brutos: \n"
     ]
    },
    {
     "data": {
      "text/html": [
       "<div>\n",
       "<style scoped>\n",
       "    .dataframe tbody tr th:only-of-type {\n",
       "        vertical-align: middle;\n",
       "    }\n",
       "\n",
       "    .dataframe tbody tr th {\n",
       "        vertical-align: top;\n",
       "    }\n",
       "\n",
       "    .dataframe thead th {\n",
       "        text-align: right;\n",
       "    }\n",
       "</style>\n",
       "<table border=\"1\" class=\"dataframe\">\n",
       "  <thead>\n",
       "    <tr style=\"text-align: right;\">\n",
       "      <th></th>\n",
       "      <th>Avaliacao 1</th>\n",
       "      <th>Avaliacao 2</th>\n",
       "      <th>Aprovado</th>\n",
       "    </tr>\n",
       "  </thead>\n",
       "  <tbody>\n",
       "    <tr>\n",
       "      <th>0</th>\n",
       "      <td>34.623660</td>\n",
       "      <td>78.024693</td>\n",
       "      <td>0</td>\n",
       "    </tr>\n",
       "    <tr>\n",
       "      <th>1</th>\n",
       "      <td>30.286711</td>\n",
       "      <td>43.894998</td>\n",
       "      <td>0</td>\n",
       "    </tr>\n",
       "    <tr>\n",
       "      <th>2</th>\n",
       "      <td>35.847409</td>\n",
       "      <td>72.902198</td>\n",
       "      <td>0</td>\n",
       "    </tr>\n",
       "    <tr>\n",
       "      <th>3</th>\n",
       "      <td>60.182599</td>\n",
       "      <td>86.308552</td>\n",
       "      <td>1</td>\n",
       "    </tr>\n",
       "    <tr>\n",
       "      <th>4</th>\n",
       "      <td>79.032736</td>\n",
       "      <td>75.344376</td>\n",
       "      <td>1</td>\n",
       "    </tr>\n",
       "  </tbody>\n",
       "</table>\n",
       "</div>"
      ],
      "text/plain": [
       "   Avaliacao 1  Avaliacao 2  Aprovado\n",
       "0    34.623660    78.024693         0\n",
       "1    30.286711    43.894998         0\n",
       "2    35.847409    72.902198         0\n",
       "3    60.182599    86.308552         1\n",
       "4    79.032736    75.344376         1"
      ]
     },
     "execution_count": 2,
     "metadata": {},
     "output_type": "execute_result"
    }
   ],
   "source": [
    "# Carregando os dados para a variável \"data\"\n",
    "data = pd.read_csv(\"../datasets/ex2data1.txt\", header = None, names = [\"Avaliacao 1\", \"Avaliacao 2\", \"Aprovado\"])\n",
    "\n",
    "# Inicializando Variáveis\n",
    "m = len(data[\"Aprovado\"])\n",
    "\n",
    "x0 = np.ones(m)\n",
    "avaliacao_1 = np.array((data[\"Avaliacao 1\"]))\n",
    "avaliacao_2 = np.array((data[\"Avaliacao 2\"]))\n",
    "\n",
    "X = np.array([x0, avaliacao_1, avaliacao_2]).T\n",
    "y = np.array(data[\"Aprovado\"]).reshape((m,1))\n",
    "m, n = X.shape\n",
    "\n",
    "print(\"Matriz X:\\n\",X[:5])\n",
    "print(\"\\n\\nDados brutos: \")\n",
    "data.head()"
   ]
  },
  {
   "cell_type": "code",
   "execution_count": 3,
   "metadata": {},
   "outputs": [
    {
     "name": "stdout",
     "output_type": "stream",
     "text": [
      "Parâmetros ótimos: [ 0.41685329  0.10567306 -0.52628841]\n",
      "Custo mínimo: 0.6891080982543317\n",
      "Sucesso: True\n"
     ]
    }
   ],
   "source": [
    "\n",
    "\n",
    "def sigmoid(z):\n",
    "    return 1 / (1 + np.exp(-z))\n",
    "\n",
    "def custo(theta, X, y):\n",
    "    m = len(y)\n",
    "    h = sigmoid(np.dot(X, theta))\n",
    "    custo = (1 / m) * np.sum(-y * np.log(h + 1e-15) - (1 - y) * np.log(1 - h + 1e-15))\n",
    "    return custo\n",
    "\n",
    "def gradiente(theta, X, y):\n",
    "    m = len(y)\n",
    "    h = sigmoid(np.dot(X, theta))\n",
    "    erro = h - y\n",
    "    grad = (1 / m) * np.dot(X.T, erro)\n",
    "    return grad\n",
    "\n",
    "# Exemplo de uso com dimensão 3x100\n",
    "X = np.random.rand(100, 3)  # matriz de características (3 x 100)\n",
    "y = np.random.randint(0, 2, size=(100, 1))  # vetor de classes (1 x 100)\n",
    "theta = np.zeros(3)  # parâmetros do modelo (incluindo o termo de viés)\n",
    "\n",
    "resultado = minimize(custo, theta, args=(X, y.ravel()), method='CG', jac=gradiente)\n",
    "\n",
    "x_otimo = resultado.x\n",
    "custo_minimo = resultado.fun\n",
    "sucesso = resultado.success\n",
    "\n",
    "print(\"Parâmetros ótimos:\", x_otimo)\n",
    "print(\"Custo mínimo:\", custo_minimo)\n",
    "print(\"Sucesso:\", sucesso)\n"
   ]
  },
  {
   "cell_type": "code",
   "execution_count": 4,
   "metadata": {},
   "outputs": [
    {
     "data": {
      "text/plain": [
       "array([1., 1., 1., 1., 1., 1., 1., 1., 1., 1., 1., 1., 1., 1., 1., 1., 1.,\n",
       "       1., 1., 1., 1., 1., 1., 1., 1., 1., 1., 1., 1., 1., 1., 1., 1., 1.,\n",
       "       1., 1., 1., 1., 1., 1., 1., 1., 1., 1., 1., 1., 1., 1., 1., 1., 1.,\n",
       "       1., 1., 1., 1., 1., 1., 1., 1., 1., 1., 1., 1., 1., 1., 1., 1., 1.,\n",
       "       1., 1., 1., 1., 1., 1., 1., 1., 1., 1., 1., 1., 1., 1., 1., 1., 1.,\n",
       "       1., 1., 1., 1., 1., 1., 1., 1., 1., 1., 1., 1., 1., 1., 1.])"
      ]
     },
     "execution_count": 4,
     "metadata": {},
     "output_type": "execute_result"
    }
   ],
   "source": [
    "x0"
   ]
  },
  {
   "cell_type": "code",
   "execution_count": 5,
   "metadata": {},
   "outputs": [
    {
     "data": {
      "text/plain": [
       "array([0, 1, 1, 1, 1, 0, 0, 1, 1, 0, 0, 0, 0, 1, 1, 0, 1, 1, 1, 1, 1, 1,\n",
       "       0, 1, 0, 1, 1, 1, 0, 0, 0, 0, 0, 0, 1, 0, 1, 1, 1, 1, 1, 0, 1, 1,\n",
       "       0, 0, 0, 0, 0, 1, 0, 0, 1, 1, 1, 1, 0, 0, 1, 0, 1, 1, 0, 1, 1, 1,\n",
       "       0, 0, 0, 0, 1, 0, 0, 0, 1, 0, 1, 0, 0, 1, 0, 0, 1, 0, 0, 1, 0, 1,\n",
       "       1, 0, 0, 0, 1, 1, 1, 1, 1, 1, 0, 1])"
      ]
     },
     "execution_count": 5,
     "metadata": {},
     "output_type": "execute_result"
    }
   ],
   "source": [
    "y.ravel().ravel().ravel()"
   ]
  },
  {
   "cell_type": "code",
   "execution_count": 74,
   "metadata": {},
   "outputs": [
    {
     "data": {
      "image/png": "[encoded data removed]",
      "text/plain": [
       "<Figure size 800x600 with 1 Axes>"
      ]
     },
     "metadata": {},
     "output_type": "display_data"
    }
   ],
   "source": [
    "import numpy as np\n",
    "import matplotlib.pyplot as plt\n",
    "from scipy.optimize import minimize\n",
    "\n",
    "# Dados de exemplo\n",
    "X = np.array([[1, 2], [2, 3], [3, 1], [4, 4], [5, 5]])\n",
    "y = np.array([0, 0, 0, 1, 1])\n",
    "\n",
    "# Função sigmóide\n",
    "def sigmoid(z):\n",
    "    return 1 / (1 + np.exp(-z))\n",
    "\n",
    "# Função de custo regularizada\n",
    "def custo_regularizado(theta, X, y, lambda_):\n",
    "    m = len(y)\n",
    "    h = sigmoid(np.dot(X, theta))\n",
    "    custo = (1 / m) * np.sum(-y * np.log(h) - (1 - y) * np.log(1 - h))\n",
    "    regularizacao = (lambda_ / (2 * m)) * np.sum(theta[1:] ** 2)  # Excluindo o termo de viés\n",
    "    return custo + regularizacao\n",
    "\n",
    "# Função do gradiente regularizado\n",
    "def gradiente_regularizado(theta, X, y, lambda_):\n",
    "    m = len(y)\n",
    "    h = sigmoid(np.dot(X, theta))\n",
    "    erro = h - y\n",
    "    grad = (1 / m) * np.dot(X.T, erro)\n",
    "    regularizacao = (lambda_ / m) * theta\n",
    "    regularizacao[0] = 0  # Não regularizar o termo de viés\n",
    "    return grad + regularizacao\n",
    "\n",
    "\n",
    "# Função para plotar a fronteira de decisão\n",
    "def plot_fronteira_decisao(X, y, theta):\n",
    "    plt.scatter(X[:, 0], X[:, 1], c=y, cmap=plt.cm.Paired, marker='o', edgecolors='k')\n",
    "\n",
    "    x1_min, x1_max = X[:, 0].min() - 1, X[:, 0].max() + 1\n",
    "    x2_min, x2_max = X[:, 1].min() - 1, X[:, 1].max() + 1\n",
    "    xx1, xx2 = np.meshgrid(np.arange(x1_min, x1_max, 0.1), np.arange(x2_min, x2_max, 0.1))\n",
    "\n",
    "    Z = sigmoid(np.dot(np.c_[np.ones((xx1.ravel().shape[0], 1)), xx1.ravel(), xx2.ravel()], theta))\n",
    "    Z = Z.reshape(xx1.shape)\n",
    "    plt.contourf(xx1, xx2, Z, alpha=0.4, cmap=plt.cm.Paired)\n",
    "    plt.xlim(xx1.min(), xx1.max())\n",
    "    plt.ylim(xx2.min(), xx2.max())\n",
    "\n",
    "\n",
    "# Minimizar a função de custo regularizada para obter os parâmetros otimizados\n",
    "theta_inicial = np.zeros(X.shape[1])\n",
    "lambda_ = 1.0  # Parâmetro de regularização\n",
    "resultado = minimize(custo_regularizado, theta_inicial, args=(X, y, lambda_), jac=gradiente_regularizado, method='CG')\n",
    "theta_otimo = resultado.x\n",
    "\n",
    "\n",
    "# Plotar a fronteira de decisão\n",
    "plt.figure(figsize=(8, 6))\n",
    "plt.scatter(X[:, 0], X[:, 1], c=y, cmap=plt.cm.Paired, marker='o', edgecolors='k')\n",
    "\n",
    "x1_min, x1_max = X[:, 0].min() - 1, X[:, 0].max() + 1\n",
    "x2_min, x2_max = X[:, 1].min() - 1, X[:, 1].max() + 1\n",
    "xx1, xx2 = np.meshgrid(np.arange(x1_min, x1_max, 0.1), np.arange(x2_min, x2_max, 0.1))\n",
    "\n",
    "novo_X = np.c_[ xx1.ravel(), xx2.ravel()]\n",
    "z = np.dot(novo_X, theta_otimo)\n",
    "Z = sigmoid(z)\n",
    "Z = Z.reshape(xx1.shape)\n",
    "plt.contourf(xx1, xx2, Z, alpha=0.4, cmap=plt.cm.Paired)\n",
    "plt.xlim(xx1.min(), xx1.max())\n",
    "plt.ylim(xx2.min(), xx2.max())\n",
    "\n",
    "plt.title('Fronteira de Decisão')\n",
    "plt.xlabel('X1')\n",
    "plt.ylabel('X2')\n",
    "\n",
    "\n",
    "plt.show()"
   ]
  },
  {
   "cell_type": "code",
   "execution_count": 77,
   "metadata": {},
   "outputs": [
    {
     "name": "stdout",
     "output_type": "stream",
     "text": [
      "(60, 60) (60, 60) (3600, 2) (2,) (60, 60)\n"
     ]
    },
    {
     "data": {
      "text/plain": [
       "array([[0. , 0. ],\n",
       "       [0.1, 0. ],\n",
       "       [0.2, 0. ],\n",
       "       ...,\n",
       "       [5.7, 5.9],\n",
       "       [5.8, 5.9],\n",
       "       [5.9, 5.9]])"
      ]
     },
     "execution_count": 77,
     "metadata": {},
     "output_type": "execute_result"
    }
   ],
   "source": [
    "print(xx1.shape,xx2.shape,novo_X.shape,theta_otimo.shape,Z.shape)\n",
    "\n",
    "novo_X"
   ]
  },
  {
   "cell_type": "code",
   "execution_count": 80,
   "metadata": {},
   "outputs": [
    {
     "data": {
      "image/png": "[encoded data removed]",
      "text/plain": [
       "<Figure size 800x600 with 1 Axes>"
      ]
     },
     "metadata": {},
     "output_type": "display_data"
    }
   ],
   "source": [
    "import numpy as np\n",
    "import matplotlib.pyplot as plt\n",
    "from scipy.optimize import minimize\n",
    "\n",
    "# Função sigmóide\n",
    "def sigmoid(z):\n",
    "    return 1 / (1 + np.exp(-z))\n",
    "\n",
    "# Função de custo regularizada\n",
    "def custo_regularizado(theta, X, y, lambda_):\n",
    "    m = len(y)\n",
    "    h = sigmoid(np.dot(X, theta))\n",
    "    custo = (1 / m) * np.sum(-y * np.log(h) - (1 - y) * np.log(1 - h))\n",
    "    regularizacao = (lambda_ / (2 * m)) * np.sum(theta[1:] ** 2)  # Excluindo o termo de viés\n",
    "    return custo + regularizacao\n",
    "\n",
    "# Função do gradiente regularizado\n",
    "def gradiente_regularizado(theta, X, y, lambda_):\n",
    "    m = len(y)\n",
    "    h = sigmoid(np.dot(X, theta))\n",
    "    erro = h - y\n",
    "    grad = (1 / m) * np.dot(X.T, erro)\n",
    "    regularizacao = (lambda_ / m) * theta\n",
    "    regularizacao[0] = 0  # Não regularizar o termo de viés\n",
    "    return grad + regularizacao\n",
    "\n",
    "# Função de mapeamento polinomial\n",
    "def mapeamento_polinomial(X, grau):\n",
    "    m, n = X.shape\n",
    "    novo_X = np.ones((m, 1))  # Inicializa o novo array com a coluna de termos constantes\n",
    "\n",
    "    for i in range(1, grau + 1):\n",
    "        for j in range(i + 1):\n",
    "            novo_termo = (X[:, 0] ** (i - j)) * (X[:, 1] ** j)\n",
    "            novo_X = np.column_stack((novo_X, novo_termo))\n",
    "\n",
    "    return novo_X\n",
    "\n",
    "# Dados de exemplo\n",
    "X = np.array([[1, 2], [2, 3], [3, 1], [4, 4], [5, 5]])\n",
    "y = np.array([0, 0, 0, 1, 1])\n",
    "\n",
    "# Normalizar os dados\n",
    "X_normalizado = (X - X.mean(axis=0)) / X.std(axis=0)\n",
    "\n",
    "# Aplicar a função de mapeamento polinomial aos dados normalizados\n",
    "grau = 3  # Grau do polinômio\n",
    "X_mapeado = mapeamento_polinomial(X_normalizado, grau)\n",
    "\n",
    "# Minimizar a função de custo regularizada para obter os parâmetros otimizados\n",
    "theta_inicial = np.zeros(X_mapeado.shape[1])\n",
    "lambda_ = 1.0  # Parâmetro de regularização\n",
    "resultado = minimize(custo_regularizado, theta_inicial, args=(X_mapeado, y, lambda_), jac=gradiente_regularizado, method='CG')\n",
    "theta_otimo = resultado.x\n",
    "\n",
    "# Função para plotar a fronteira de decisão\n",
    "def plot_fronteira_decisao(X, y, theta):\n",
    "    plt.scatter(X[:, 1], X[:, 2], c=y, cmap=plt.cm.Paired, marker='o', edgecolors='k')\n",
    "\n",
    "    x1_min, x1_max = X[:, 1].min() - 1, X[:, 1].max() + 1\n",
    "    x2_min, x2_max = X[:, 2].min() - 1, X[:, 2].max() + 1\n",
    "    xx1, xx2 = np.meshgrid(np.linspace(x1_min, x1_max, 100), np.linspace(x2_min, x2_max, 100))\n",
    "\n",
    "    # Aplicar a função de mapeamento polinomial aos dados da grade de pontos\n",
    "    novo_X = mapeamento_polinomial(np.c_[xx1.ravel(), xx2.ravel()], grau)\n",
    "    \n",
    "    # Calcular a previsão da fronteira de decisão\n",
    "    Z = np.dot(novo_X, theta)\n",
    "    Z = Z.reshape(xx1.shape)\n",
    "    plt.contourf(xx1, xx2, Z, alpha=0.4, cmap=plt.cm.Paired)\n",
    "    plt.xlim(xx1.min(), xx1.max())\n",
    "    plt.ylim(xx2.min(), xx2.max())\n",
    "    plt.xlabel('Feature 1')\n",
    "    plt.ylabel('Feature 2')\n",
    "\n",
    "# Plotar a fronteira de decisão\n",
    "plt.figure(figsize=(8, 6))\n",
    "plot_fronteira_decisao(X_mapeado, y, theta_otimo)\n",
    "plt.title('Fronteira de Decisão')\n",
    "plt.show()\n"
   ]
  }
 ],
 "metadata": {
  "kernelspec": {
   "display_name": "Python 3",
   "language": "python",
   "name": "python3"
  },
  "language_info": {
   "codemirror_mode": {
    "name": "ipython",
    "version": 3
   },
   "file_extension": ".py",
   "mimetype": "text/x-python",
   "name": "python",
   "nbconvert_exporter": "python",
   "pygments_lexer": "ipython3",
   "version": "3.11.6"
  }
 },
 "nbformat": 4,
 "nbformat_minor": 2
}
